{
 "cells": [
  {
   "cell_type": "code",
   "execution_count": null,
   "metadata": {},
   "outputs": [],
   "source": [
    "[1000,300,50,1000,250,200,400,1000,500,180,1000,1000,500,1000,800,1000,1000,200,180,1000,1000]\n",
    "[\"kitti_07\", \"sphere2500\",\"smallGrid3D\",\"kitti_02\",\"cubicle\",\"input_INTEL_g2o\",\\\n",
    "        \"torus3D\",\"kitti_09\",\"city10000\",\"parking-garage\",\"kitti_06\",\"kitti_05\",\"ais2klinik\",\"kitti_00\",\"rim\",\"CSAIL\",\"kitti_08\",\\\n",
    "        \"grid3D\",\"sphere_bignoise_vertex3\",\"input_MITb_g2o\",\"input_M3500_g2o\"]"
   ]
  }
 ],
 "metadata": {
  "kernelspec": {
   "display_name": "Python 3",
   "language": "python",
   "name": "python3"
  },
  "language_info": {
   "name": "python",
   "version": "3.6.9 (default, Dec  8 2021, 21:08:43) \n[GCC 8.4.0]"
  },
  "orig_nbformat": 4,
  "vscode": {
   "interpreter": {
    "hash": "31f2aee4e71d21fbe5cf8b01ff0e069b9275f58929596ceb00d14d90e3e16cd6"
   }
  }
 },
 "nbformat": 4,
 "nbformat_minor": 2
}
